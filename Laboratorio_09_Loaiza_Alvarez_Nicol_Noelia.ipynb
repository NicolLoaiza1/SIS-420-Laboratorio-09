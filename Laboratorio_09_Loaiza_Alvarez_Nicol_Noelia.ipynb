{
  "cells": [
    {
      "cell_type": "markdown",
      "metadata": {
        "id": "view-in-github",
        "colab_type": "text"
      },
      "source": [
        "<a href=\"https://colab.research.google.com/github/NicolLoaiza1/SIS-420-Laboratorio-09/blob/main/Laboratorio_09_Loaiza_Alvarez_Nicol_Noelia.ipynb\" target=\"_parent\"><img src=\"https://colab.research.google.com/assets/colab-badge.svg\" alt=\"Open In Colab\"/></a>"
      ]
    },
    {
      "cell_type": "code",
      "source": [
        "# Loaiza Alvarez Nicol Noelia"
      ],
      "metadata": {
        "id": "esPU1wSkNDNi"
      },
      "execution_count": 22,
      "outputs": []
    },
    {
      "cell_type": "code",
      "source": [
        "from google.colab import drive\n",
        "drive.mount('/content/drive')"
      ],
      "metadata": {
        "colab": {
          "base_uri": "https://localhost:8080/"
        },
        "id": "sUewp4QxNPNM",
        "outputId": "5f7c155f-ccef-4913-b1ed-e8c5c80db73a"
      },
      "execution_count": 23,
      "outputs": [
        {
          "output_type": "stream",
          "name": "stdout",
          "text": [
            "Drive already mounted at /content/drive; to attempt to forcibly remount, call drive.mount(\"/content/drive\", force_remount=True).\n"
          ]
        }
      ]
    },
    {
      "cell_type": "code",
      "execution_count": 24,
      "metadata": {
        "id": "743n8hxnMptB"
      },
      "outputs": [],
      "source": [
        "import os\n",
        "import numpy as np\n",
        "import pandas as pd\n",
        "from matplotlib import pyplot\n",
        "from mpl_toolkits.mplot3d import Axes3D \n",
        "%matplotlib inline"
      ]
    },
    {
      "cell_type": "code",
      "execution_count": 25,
      "metadata": {
        "colab": {
          "base_uri": "https://localhost:8080/"
        },
        "id": "ivyBVVvnMptL",
        "outputId": "f7c20b15-bf82-4cd7-ae61-d9f33cde43c6"
      },
      "outputs": [
        {
          "output_type": "stream",
          "name": "stdout",
          "text": [
            "  X[:,0] X[:, 1]         y\n",
            "---------------------------------------------\n",
            "     120       0         2\n",
            "     132       0         1\n",
            "     133       0         1\n",
            "     134       0         1\n",
            "     132       0         1\n",
            "     134       0         3\n",
            "     134       0         3\n",
            "     122       0         3\n",
            "     122       0         3\n",
            "     122       0         3\n"
          ]
        }
      ],
      "source": [
        "data = pd.read_csv(('/content/drive/MyDrive/SIS 420 Dataset/Dataset.csv'),delimiter=',')\n",
        "data = np.array(data)\n",
        "X = data[:, :21]\n",
        "y = data[:, 21]\n",
        "m = y.size\n",
        "\n",
        "# imprimir algunos puntos de datos\n",
        "print('{:>8s}{:>8s}{:>10s}'.format('X[:,0]', 'X[:, 1]', 'y'))\n",
        "print('-'*45)\n",
        "for i in range(10):\n",
        "    print('{:8.0f}{:8.0f}{:10.0f}'.format(X[i, 0], X[i, 1], y[i]))"
      ]
    },
    {
      "cell_type": "code",
      "execution_count": 26,
      "metadata": {
        "id": "2grd05V4MptS"
      },
      "outputs": [],
      "source": [
        "def  featureNormalize(X):\n",
        "    X_norm = X.copy()\n",
        "    mu = np.zeros(X.shape[1])\n",
        "    sigma = np.zeros(X.shape[1])\n",
        "\n",
        "    mu = np.mean(X, axis = 0)\n",
        "    sigma = np.std(X, axis = 0)\n",
        "    X_norm = (X - mu) / sigma\n",
        "    \n",
        "    return X_norm, mu, sigma"
      ]
    },
    {
      "cell_type": "code",
      "execution_count": 27,
      "metadata": {
        "colab": {
          "base_uri": "https://localhost:8080/"
        },
        "id": "MJogoPnzMptU",
        "outputId": "7d05d784-4dea-4ad9-9de8-a1aebf47e227"
      },
      "outputs": [
        {
          "output_type": "stream",
          "name": "stdout",
          "text": [
            "[[1.20e+02 0.00e+00 0.00e+00 ... 1.21e+02 7.30e+01 1.00e+00]\n",
            " [1.32e+02 6.00e-03 0.00e+00 ... 1.40e+02 1.20e+01 0.00e+00]\n",
            " [1.33e+02 3.00e-03 0.00e+00 ... 1.38e+02 1.30e+01 0.00e+00]\n",
            " ...\n",
            " [1.40e+02 1.00e-03 0.00e+00 ... 1.52e+02 4.00e+00 1.00e+00]\n",
            " [1.40e+02 1.00e-03 0.00e+00 ... 1.51e+02 4.00e+00 1.00e+00]\n",
            " [1.42e+02 2.00e-03 2.00e-03 ... 1.45e+02 1.00e+00 0.00e+00]]\n",
            "---------------------------------------------\n",
            "Media calculada: [1.33303857e+02 3.17826905e-03 9.48071496e-03 4.36641580e-03\n",
            " 1.88946378e-03 3.29256820e-06 1.58513641e-04 4.69901223e+01\n",
            " 1.33278457e+00 9.84666040e+00 8.18762935e+00 7.04459078e+01\n",
            " 9.35794920e+01 1.64025400e+02 4.06820320e+00 3.23612418e-01\n",
            " 1.37452023e+02 1.34610536e+02 1.38090310e+02 1.88080903e+01\n",
            " 3.20319849e-01]\n",
            "---------------------------------------------\n",
            "Desviación estandar calculada: [9.83852958e+00 3.86468172e-03 4.66548681e-02 2.94537618e-03\n",
            " 2.95951230e-03 5.72863614e-05 5.89808754e-04 1.71887698e+01\n",
            " 8.83033586e-01 1.83925525e+01 5.62692278e+00 3.89465301e+01\n",
            " 2.95532594e+01 1.79399624e+01 2.94869189e+00 7.05893300e-01\n",
            " 1.63774362e+01 1.55899285e+01 1.44631862e+01 2.89708201e+01\n",
            " 6.10684956e-01]\n",
            "---------------------------------------------\n",
            "[[-1.35222005 -0.8223883  -0.20320955 ... -1.18164215  1.87056871\n",
            "   1.11298001]\n",
            " [-0.1325256   0.73013282 -0.20320955 ...  0.13203796 -0.23499819\n",
            "  -0.52452553]\n",
            " [-0.03088439 -0.04612774 -0.20320955 ... -0.00624416 -0.2004807\n",
            "  -0.52452553]\n",
            " ...\n",
            " [ 0.68060404 -0.56363478 -0.20320955 ...  0.96173066 -0.51113811\n",
            "   1.11298001]\n",
            " [ 0.68060404 -0.56363478 -0.20320955 ...  0.8925896  -0.51113811\n",
            "   1.11298001]\n",
            " [ 0.88388645 -0.30488126 -0.16034157 ...  0.47774325 -0.61469058\n",
            "  -0.52452553]]\n"
          ]
        }
      ],
      "source": [
        "X_norm, mu, sigma = featureNormalize(X)\n",
        "\n",
        "print(X)\n",
        "print('-'*45)\n",
        "print('Media calculada:', mu)\n",
        "print('-'*45)\n",
        "print('Desviación estandar calculada:', sigma)\n",
        "print('-'*45)\n",
        "print(X_norm)"
      ]
    },
    {
      "cell_type": "code",
      "execution_count": 28,
      "metadata": {
        "id": "bCekkRJpMptX"
      },
      "outputs": [],
      "source": [
        "X = np.concatenate([np.ones((m, 1)), X_norm], axis=1)"
      ]
    },
    {
      "cell_type": "code",
      "execution_count": 29,
      "metadata": {
        "colab": {
          "base_uri": "https://localhost:8080/"
        },
        "id": "CR4tnO7hMptZ",
        "outputId": "8448db03-1ec1-446d-c37f-94c774fdc9fe"
      },
      "outputs": [
        {
          "output_type": "stream",
          "name": "stdout",
          "text": [
            "[[ 1.         -1.35222005 -0.8223883  ... -1.18164215  1.87056871\n",
            "   1.11298001]\n",
            " [ 1.         -0.1325256   0.73013282 ...  0.13203796 -0.23499819\n",
            "  -0.52452553]\n",
            " [ 1.         -0.03088439 -0.04612774 ... -0.00624416 -0.2004807\n",
            "  -0.52452553]\n",
            " ...\n",
            " [ 1.          0.68060404 -0.56363478 ...  0.96173066 -0.51113811\n",
            "   1.11298001]\n",
            " [ 1.          0.68060404 -0.56363478 ...  0.8925896  -0.51113811\n",
            "   1.11298001]\n",
            " [ 1.          0.88388645 -0.30488126 ...  0.47774325 -0.61469058\n",
            "  -0.52452553]]\n"
          ]
        }
      ],
      "source": [
        "print(X)"
      ]
    },
    {
      "cell_type": "code",
      "execution_count": 30,
      "metadata": {
        "id": "81ANXvOtMptc"
      },
      "outputs": [],
      "source": [
        "def computeCostMulti(X, y, theta):\n",
        "    m = y.shape[0]  \n",
        "    J = 0 \n",
        "    h = np.dot(X, theta)  \n",
        "    J = (1/(2 * m)) * np.sum(np.square(np.dot(X, theta) - y)) \n",
        "    return J"
      ]
    },
    {
      "cell_type": "code",
      "execution_count": 31,
      "metadata": {
        "id": "6NBZmpIzMpte"
      },
      "outputs": [],
      "source": [
        "def gradientDescentMulti(X, y, theta, alpha, num_iters):\n",
        "    m = y.shape[0] \n",
        "    theta = theta.copy()  \n",
        "    J_history = []   \n",
        "    for i in range(num_iters):\n",
        "        theta = theta - (alpha / m) * (np.dot(X, theta) - y).dot(X)\n",
        "        J_history.append(computeCostMulti(X, y, theta))  \n",
        "    return theta, J_history"
      ]
    },
    {
      "cell_type": "code",
      "execution_count": 34,
      "metadata": {
        "colab": {
          "base_uri": "https://localhost:8080/",
          "height": 400
        },
        "id": "QnnPUntWMptg",
        "outputId": "fb9911ea-1e8c-4877-cb92-542ca8814e38"
      },
      "outputs": [
        {
          "output_type": "stream",
          "name": "stdout",
          "text": [
            "theta calculado por el descenso por el gradiente: [ 1.30432738e+00  1.46244846e-01 -1.18021185e-03  3.76816638e-03\n",
            " -6.73017786e-02 -9.10377401e-03  4.37642545e-02  2.16118486e-01\n",
            "  1.47080881e-01  9.88985437e-04  2.16008583e-01  3.30697387e-02\n",
            " -2.21234424e-02  7.48923168e-02  7.53446810e-02 -8.77691529e-03\n",
            "  8.63562761e-03 -6.97534636e-02 -6.36862014e-02 -1.35597548e-01\n",
            "  7.98906757e-02  4.80331996e-02]\n",
            "Clasificación de salud fetal (usando el descenso por el gradiente): $2\n"
          ]
        },
        {
          "output_type": "display_data",
          "data": {
            "text/plain": [
              "<Figure size 432x288 with 1 Axes>"
            ],
            "image/png": "[encoded data removed]"
          },
          "metadata": {
            "needs_background": "light"
          }
        }
      ],
      "source": [
        "# Elegir algun valor para alpha (probar varias alternativas)\n",
        "alpha = 0.005\n",
        "num_iters = 10000\n",
        "\n",
        "# inicializa theta y ejecuta el descenso por el gradiente\n",
        "theta = np.zeros(22)\n",
        "theta, J_history = gradientDescentMulti(X, y, theta, alpha, num_iters)\n",
        "\n",
        "# Grafica la convergencia del costo\n",
        "pyplot.plot(np.arange(len(J_history)), J_history, lw=2)\n",
        "pyplot.xlabel('Numero de iteraciones')\n",
        "pyplot.ylabel('Costo J')\n",
        "\n",
        "# Muestra los resultados del descenso por el gradiente\n",
        "print('theta calculado por el descenso por el gradiente: {:s}'.format(str(theta)))\n",
        "\n",
        "# Estimar el precio para una casa de 1650 sq-ft, con 3 dormitorios\n",
        "X_array = [1, 120.0,0.0,0.0,0.0,0.0,0.0,0.0,73.0,0.5,43.0,2.4,64.0,62.0,126.0,2.0,0.0,120.0,137.0,121.0,73.0,1.0]\n",
        "X_array[1:22] = (X_array[1:22] - mu) / sigma\n",
        "price = np.dot(X_array, theta)   # Se debe cambiar esto\n",
        "\n",
        "print('Clasificación de salud fetal (usando el descenso por el gradiente): ${:.0f}'.format(price))"
      ]
    },
    {
      "cell_type": "code",
      "execution_count": 35,
      "metadata": {
        "id": "5f34XepJMptj"
      },
      "outputs": [],
      "source": [
        "X_array = [1, 120.0,0.0,0.0,0.0,0.0,0.0,0.0,73.0,0.5,43.0,2.4,64.0,62.0,126.0,2.0,0.0,120.0,137.0,121.0,73.0,1.0]\n",
        "X_array[1:22] = (X_array[1:22] - mu) / sigma"
      ]
    },
    {
      "cell_type": "code",
      "execution_count": 36,
      "metadata": {
        "colab": {
          "base_uri": "https://localhost:8080/"
        },
        "id": "zn0IWaSmMptl",
        "outputId": "aa15f287-db19-4053-ac2a-be4a0b285bc9"
      },
      "outputs": [
        {
          "output_type": "execute_result",
          "data": {
            "text/plain": [
              "[-1.3522200546092362,\n",
              " -0.8223883042718209,\n",
              " -0.20320955423320786,\n",
              " -1.4824645581771696,\n",
              " -0.6384375492921535,\n",
              " -0.05747560370484534,\n",
              " -0.2687543030278473,\n",
              " 1.513190184100258,\n",
              " -0.943095013858353,\n",
              " 1.8025415210983173,\n",
              " -1.028560294724384,\n",
              " -0.16550660055894836,\n",
              " -1.0685620700101375,\n",
              " -2.1195919412504174,\n",
              " -0.7013968475226328,\n",
              " -0.45844381526053474,\n",
              " -1.0656138330440816,\n",
              " 0.1532697070913807,\n",
              " -1.1816421541317579,\n",
              " 1.8705687107016409,\n",
              " 1.1129800127196288]"
            ]
          },
          "metadata": {},
          "execution_count": 36
        }
      ],
      "source": [
        "X_array[1:22]"
      ]
    },
    {
      "cell_type": "code",
      "execution_count": 37,
      "metadata": {
        "id": "on_CFbsnMpto"
      },
      "outputs": [],
      "source": [
        "data = pd.read_csv(('/content/drive/MyDrive/SIS 420 Dataset/Dataset.csv'),delimiter=',')\n",
        "data = np.array(data)\n",
        "X = data[:, :21]\n",
        "y = data[:, 21]\n",
        "m = y.size\n",
        "X = np.concatenate([np.ones((m, 1)), X], axis=1)"
      ]
    },
    {
      "cell_type": "code",
      "execution_count": 38,
      "metadata": {
        "id": "M-Xy5kGAMptp"
      },
      "outputs": [],
      "source": [
        "def normalEqn(X, y):\n",
        "    theta = np.zeros(X.shape[1])    \n",
        "    theta = np.dot(np.dot(np.linalg.inv(np.dot(X.T,X)),X.T),y)   \n",
        "    return theta"
      ]
    },
    {
      "cell_type": "code",
      "execution_count": 39,
      "metadata": {
        "colab": {
          "base_uri": "https://localhost:8080/"
        },
        "id": "OMe6mm5iMptq",
        "outputId": "4fcb8cb6-5ed2-4099-ca4e-923942c5884a"
      },
      "outputs": [
        {
          "output_type": "stream",
          "name": "stdout",
          "text": [
            "Theta calculado a partir de la ecuación de la normal: [ 1.44141761e+01 -1.09514694e-01  1.06940924e+02 -4.97560226e+01\n",
            " -3.63170325e+02  1.63646354e+02 -2.79908406e+03  5.62228446e+02\n",
            "  1.58459673e-02  8.93314044e-01 -1.88550127e-03  1.26141423e-02\n",
            "  5.29491036e-02  7.50682063e-02 -4.36182338e-02 -2.92627344e-03\n",
            "  1.23867049e-02 -3.69826011e-03 -3.51443680e-03 -1.11969691e-02\n",
            "  2.79296159e-03  8.24999215e-02]\n",
            "Clasificación de salud fetal (usando la ecuación de la normal): $3\n"
          ]
        }
      ],
      "source": [
        "# Calcula los parametros con la ecuación de la normal\n",
        "theta = normalEqn(X, y);\n",
        "\n",
        "# Muestra los resultados optenidos a partir de la aplicación de la ecuación de la normal\n",
        "print('Theta calculado a partir de la ecuación de la normal: {:s}'.format(str(theta)));\n",
        "\n",
        "# Estimar el precio para una casa de superficie de 1650 sq-ft y tres dormitorios\n",
        "\n",
        "X_array = [1, 120.0,0.0,0.0,0.0,0.0,0.0,0.0,73.0,0.5,43.0,2.4,64.0,62.0,126.0,2.0,0.0,120.0,137.0,121.0,73.0,1.0]\n",
        "price = np.dot(X_array, theta) \n",
        "\n",
        "print('Clasificación de salud fetal (usando la ecuación de la normal): ${:.0f}'.format(price))"
      ]
    }
  ],
  "metadata": {
    "kernelspec": {
      "display_name": "Python 3",
      "language": "python",
      "name": "python3"
    },
    "language_info": {
      "codemirror_mode": {
        "name": "ipython",
        "version": 3
      },
      "file_extension": ".py",
      "mimetype": "text/x-python",
      "name": "python",
      "nbconvert_exporter": "python",
      "pygments_lexer": "ipython3",
      "version": "3.8.3"
    },
    "colab": {
      "provenance": [],
      "include_colab_link": true
    }
  },
  "nbformat": 4,
  "nbformat_minor": 0
}